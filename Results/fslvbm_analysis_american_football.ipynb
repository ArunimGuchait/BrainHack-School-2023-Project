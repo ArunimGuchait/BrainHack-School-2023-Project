{
  "cells": [
    {
      "attachments": {},
      "cell_type": "markdown",
      "metadata": {
        "id": "CgouSN7GJw8D"
      },
      "source": [
        "# FSL-VBM Analysis with Brain Extraction\n",
        "Reference: https://open.win.ox.ac.uk/pages/fslcourse/practicals/seg_struc/index.html#vbm"
      ]
    },
    {
      "attachments": {},
      "cell_type": "markdown",
      "metadata": {
        "id": "oY0ztNBJJ_PL"
      },
      "source": [
        "From the dataset, I have chosen data of nine Indiana University (IU) football players (American football) and nine controls (non-athletes) and wish to carry out an AmFB>NonAth comparison as well as NonAth>AmFB comparison."
      ]
    },
    {
      "attachments": {},
      "cell_type": "markdown",
      "metadata": {
        "id": "j5hvhQeFO-B6"
      },
      "source": [
        "Please check the Participants' Info used in this Project here:\n",
        "\n",
        "Participants' Info Used in this Project.csv"
      ]
    },
    {
      "attachments": {},
      "cell_type": "markdown",
      "metadata": {},
      "source": [
        "### [a] Define the statistical design\n",
        "[a simple two-tailed t-test to compare both groups]"
      ]
    },
    {
      "attachments": {},
      "cell_type": "markdown",
      "metadata": {},
      "source": [
        "### [b] Create template_list file\n",
        "Check the contents of this template_list file by doing: "
      ]
    },
    {
      "cell_type": "code",
      "execution_count": null,
      "metadata": {
        "vscode": {
          "languageId": "plaintext"
        }
      },
      "outputs": [],
      "source": [
        "cat template_list"
      ]
    }
  ],
  "metadata": {
    "colab": {
      "provenance": []
    },
    "kernelspec": {
      "display_name": "Python 3",
      "name": "python3"
    },
    "language_info": {
      "name": "python"
    }
  },
  "nbformat": 4,
  "nbformat_minor": 0
}
