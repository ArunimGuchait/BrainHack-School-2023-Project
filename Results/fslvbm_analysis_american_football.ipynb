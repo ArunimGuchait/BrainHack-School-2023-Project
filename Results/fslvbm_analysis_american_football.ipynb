{
  "nbformat": 4,
  "nbformat_minor": 0,
  "metadata": {
    "colab": {
      "provenance": []
    },
    "kernelspec": {
      "name": "python3",
      "display_name": "Python 3"
    },
    "language_info": {
      "name": "python"
    }
  },
  "cells": [
    {
      "cell_type": "code",
      "execution_count": null,
      "metadata": {
        "id": "pbNknLBnJZPd"
      },
      "outputs": [],
      "source": []
    },
    {
      "cell_type": "markdown",
      "source": [
        "# FSL-VBM Analysis with Brain Extraction\n",
        "Reference: https://open.win.ox.ac.uk/pages/fslcourse/practicals/seg_struc/index.html#vbm"
      ],
      "metadata": {
        "id": "CgouSN7GJw8D"
      }
    },
    {
      "cell_type": "markdown",
      "source": [
        "From the dataset, I have chosen data of nine Indiana University (IU) football players (American football) and nine controls (non-athletes) and wish to carry out an AmFB>NonAth comparison as well as NonAth>AmFB comparison."
      ],
      "metadata": {
        "id": "oY0ztNBJJ_PL"
      }
    },
    {
      "cell_type": "markdown",
      "source": [
        "Please check the Participants' Info Used in this Project here:\n"
      ],
      "metadata": {
        "id": "j5hvhQeFO-B6"
      }
    }
  ]
}