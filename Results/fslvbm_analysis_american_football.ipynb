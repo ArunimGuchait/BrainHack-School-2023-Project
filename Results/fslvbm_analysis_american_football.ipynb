{
  "cells": [
    {
      "attachments": {},
      "cell_type": "markdown",
      "metadata": {
        "id": "CgouSN7GJw8D"
      },
      "source": [
        "# FSL-VBM Analysis with Brain Extraction\n",
        "Reference: https://open.win.ox.ac.uk/pages/fslcourse/practicals/seg_struc/index.html#vbm"
      ]
    },
    {
      "attachments": {},
      "cell_type": "markdown",
      "metadata": {
        "id": "oY0ztNBJJ_PL"
      },
      "source": [
        "From the dataset, I have chosen data of nine Indiana University (IU) football players (American football) and nine controls (non-athletes) and wish to carry out an AmFB>NonAth comparison as well as NonAth>AmFB comparison."
      ]
    },
    {
      "attachments": {},
      "cell_type": "markdown",
      "metadata": {
        "id": "j5hvhQeFO-B6"
      },
      "source": [
        "Please check the Participants' Info used in this Project here:\n",
        "\n",
        "Results/Participants_INFO.csv"
      ]
    },
    {
      "attachments": {},
      "cell_type": "markdown",
      "metadata": {},
      "source": [
        "### [a] Define the statistical design\n",
        "[a simple two-tailed t-test to compare both groups]"
      ]
    },
    {
      "attachments": {},
      "cell_type": "markdown",
      "metadata": {},
      "source": [
        "![design_matrix_001.png](https://drive.google.com/file/d/1TThLJeUV49UDP30I0-EXX7FYjmbX8yXs/view?usp=drive_link)\n",
        "\n",
        "![design_matrix_002.png](/Results/Images/fslvbm_analysis_american_football/design_matrix_002.png)\n",
        "\n",
        "View Design\n",
        "\n",
        "![design_matrix_003.png](./Results/Images/fslvbm_analysis_american_football/design_matrix_003.png)\n",
        "\n",
        "Efficeincy\n",
        "\n",
        "![design_matrix_004.png](./Results/Images/fslvbm_analysis_american_football/design_matrix_004.png)"
      ]
    },
    {
      "attachments": {},
      "cell_type": "markdown",
      "metadata": {},
      "source": [
        "![design_matrix_002.png](/Results/Images/fslvbm_analysis_american_football/design_matrix_002.png)"
      ]
    },
    {
      "attachments": {},
      "cell_type": "markdown",
      "metadata": {},
      "source": [
        "### [b] Create template_list file\n",
        "Check the contents of this template_list file by doing: "
      ]
    },
    {
      "cell_type": "code",
      "execution_count": null,
      "metadata": {},
      "outputs": [],
      "source": [
        "cat template_list"
      ]
    },
    {
      "cell_type": "code",
      "execution_count": null,
      "metadata": {},
      "outputs": [],
      "source": [
        "sub-1_001.nii.gz\n",
        "sub-1_002.nii.gz\n",
        "sub-1_003.nii.gz\n",
        "sub-1_005.nii.gz\n",
        "sub-1_006.nii.gz\n",
        "sub-1_007.nii.gz\n",
        "sub-1_008.nii.gz\n",
        "sub-1_009.nii.gz\n",
        "sub-1_012.nii.gz\n",
        "sub-3_044.nii.gz\n",
        "sub-3_045.nii.gz\n",
        "sub-3_046.nii.gz\n",
        "sub-3_049.nii.gz\n",
        "sub-3_050.nii.gz\n",
        "sub-3_052.nii.gz\n",
        "sub-3_053.nii.gz\n",
        "sub-3_054.nii.gz\n",
        "sub-3_055.nii.gz"
      ]
    },
    {
      "attachments": {},
      "cell_type": "markdown",
      "metadata": {},
      "source": []
    }
  ],
  "metadata": {
    "colab": {
      "provenance": []
    },
    "kernelspec": {
      "display_name": "Python 3",
      "name": "python3"
    },
    "language_info": {
      "codemirror_mode": {
        "name": "ipython",
        "version": 3
      },
      "file_extension": ".py",
      "mimetype": "text/x-python",
      "name": "python",
      "nbconvert_exporter": "python",
      "pygments_lexer": "ipython3",
      "version": "3.10.6"
    }
  },
  "nbformat": 4,
  "nbformat_minor": 0
}
